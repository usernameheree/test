{
  "nbformat": 4,
  "nbformat_minor": 0,
  "metadata": {
    "colab": {
      "provenance": [],
      "authorship_tag": "ABX9TyNR9+3lKRXJeB86hvOLhFnd",
      "include_colab_link": true
    },
    "kernelspec": {
      "name": "python3",
      "display_name": "Python 3"
    },
    "language_info": {
      "name": "python"
    }
  },
  "cells": [
    {
      "cell_type": "markdown",
      "metadata": {
        "id": "view-in-github",
        "colab_type": "text"
      },
      "source": [
        "<a href=\"https://colab.research.google.com/github/usernameheree/test/blob/main/Transcribe_handwriting_and_text_with_Microsoft_Azure_Cognitive_Services.ipynb\" target=\"_parent\"><img src=\"https://colab.research.google.com/assets/colab-badge.svg\" alt=\"Open In Colab\"/></a>"
      ]
    },
    {
      "cell_type": "code",
      "execution_count": 11,
      "metadata": {
        "id": "Xy7IzaKStcaK",
        "colab": {
          "base_uri": "https://localhost:8080/"
        },
        "outputId": "43c76c37-1f12-4e21-bee3-4e160e7346f4"
      },
      "outputs": [
        {
          "output_type": "stream",
          "name": "stdout",
          "text": [
            "Enter your secret computer vision key:\n",
            "89bcd8c453b44a2eb9db7f461578c258\n",
            "Success, COMPUTER_VISION_SUBSCRIPTION_KEY is loaded.\n",
            "Delete this output\n"
          ]
        }
      ],
      "source": [
        "import os\n",
        "\n",
        "print('Enter your secret computer vision key:')\n",
        "cv_key = input()\n",
        "\n",
        "# Change the cv_endpoint below to your endpoint.\n",
        "cv_endpoint = \"https://pineapple.cognitiveservices.azure.com/\"\n",
        "\n",
        "# Store as enivonmental variables\n",
        "os.environ['COMPUTER_VISION_SUBSCRIPTION_KEY'] = cv_key\n",
        "os.environ['COMPUTER_VISION_ENDPOINT'] = cv_endpoint\n",
        "\n",
        "# Do some basic validation\n",
        "if len(os.environ['COMPUTER_VISION_SUBSCRIPTION_KEY']) == 32:\n",
        "    print(\"Success, COMPUTER_VISION_SUBSCRIPTION_KEY is loaded.\")\n",
        "else:\n",
        "    print(\"Error, The COMPUTER_VISION_SUBSCRIPTION_KEY is not the expected length, please check it.\")\n",
        "print(\"Delete this output\")"
      ]
    },
    {
      "cell_type": "code",
      "source": [
        "# Install what is required to connect to Azure Cognitive Services Computer Vision\n",
        "# Run this once on your machine. If you are using Google Colab, run this once per session.\n",
        "!pip install --upgrade azure-cognitiveservices-vision-computervision"
      ],
      "metadata": {
        "colab": {
          "base_uri": "https://localhost:8080/"
        },
        "id": "To_OFglD0BVR",
        "outputId": "2738ad33-bafc-429d-b91b-1eb7eaef0515"
      },
      "execution_count": 6,
      "outputs": [
        {
          "output_type": "stream",
          "name": "stdout",
          "text": [
            "Collecting azure-cognitiveservices-vision-computervision\n",
            "  Downloading azure_cognitiveservices_vision_computervision-0.9.0-py2.py3-none-any.whl (39 kB)\n",
            "Collecting msrest>=0.5.0 (from azure-cognitiveservices-vision-computervision)\n",
            "  Downloading msrest-0.7.1-py3-none-any.whl (85 kB)\n",
            "\u001b[2K     \u001b[90m━━━━━━━━━━━━━━━━━━━━━━━━━━━━━━━━━━━━━━━━\u001b[0m \u001b[32m85.4/85.4 kB\u001b[0m \u001b[31m5.4 MB/s\u001b[0m eta \u001b[36m0:00:00\u001b[0m\n",
            "\u001b[?25hCollecting azure-common~=1.1 (from azure-cognitiveservices-vision-computervision)\n",
            "  Downloading azure_common-1.1.28-py2.py3-none-any.whl (14 kB)\n",
            "Collecting azure-core>=1.24.0 (from msrest>=0.5.0->azure-cognitiveservices-vision-computervision)\n",
            "  Downloading azure_core-1.29.7-py3-none-any.whl (192 kB)\n",
            "\u001b[2K     \u001b[90m━━━━━━━━━━━━━━━━━━━━━━━━━━━━━━━━━━━━━━━━\u001b[0m \u001b[32m192.9/192.9 kB\u001b[0m \u001b[31m10.4 MB/s\u001b[0m eta \u001b[36m0:00:00\u001b[0m\n",
            "\u001b[?25hRequirement already satisfied: certifi>=2017.4.17 in /usr/local/lib/python3.10/dist-packages (from msrest>=0.5.0->azure-cognitiveservices-vision-computervision) (2023.11.17)\n",
            "Collecting isodate>=0.6.0 (from msrest>=0.5.0->azure-cognitiveservices-vision-computervision)\n",
            "  Downloading isodate-0.6.1-py2.py3-none-any.whl (41 kB)\n",
            "\u001b[2K     \u001b[90m━━━━━━━━━━━━━━━━━━━━━━━━━━━━━━━━━━━━━━━━\u001b[0m \u001b[32m41.7/41.7 kB\u001b[0m \u001b[31m5.0 MB/s\u001b[0m eta \u001b[36m0:00:00\u001b[0m\n",
            "\u001b[?25hRequirement already satisfied: requests-oauthlib>=0.5.0 in /usr/local/lib/python3.10/dist-packages (from msrest>=0.5.0->azure-cognitiveservices-vision-computervision) (1.3.1)\n",
            "Requirement already satisfied: requests~=2.16 in /usr/local/lib/python3.10/dist-packages (from msrest>=0.5.0->azure-cognitiveservices-vision-computervision) (2.31.0)\n",
            "Requirement already satisfied: six>=1.11.0 in /usr/local/lib/python3.10/dist-packages (from azure-core>=1.24.0->msrest>=0.5.0->azure-cognitiveservices-vision-computervision) (1.16.0)\n",
            "Collecting typing-extensions>=4.6.0 (from azure-core>=1.24.0->msrest>=0.5.0->azure-cognitiveservices-vision-computervision)\n",
            "  Downloading typing_extensions-4.9.0-py3-none-any.whl (32 kB)\n",
            "Requirement already satisfied: charset-normalizer<4,>=2 in /usr/local/lib/python3.10/dist-packages (from requests~=2.16->msrest>=0.5.0->azure-cognitiveservices-vision-computervision) (3.3.2)\n",
            "Requirement already satisfied: idna<4,>=2.5 in /usr/local/lib/python3.10/dist-packages (from requests~=2.16->msrest>=0.5.0->azure-cognitiveservices-vision-computervision) (3.6)\n",
            "Requirement already satisfied: urllib3<3,>=1.21.1 in /usr/local/lib/python3.10/dist-packages (from requests~=2.16->msrest>=0.5.0->azure-cognitiveservices-vision-computervision) (2.0.7)\n",
            "Requirement already satisfied: oauthlib>=3.0.0 in /usr/local/lib/python3.10/dist-packages (from requests-oauthlib>=0.5.0->msrest>=0.5.0->azure-cognitiveservices-vision-computervision) (3.2.2)\n",
            "Installing collected packages: azure-common, typing-extensions, isodate, azure-core, msrest, azure-cognitiveservices-vision-computervision\n",
            "  Attempting uninstall: typing-extensions\n",
            "    Found existing installation: typing_extensions 4.5.0\n",
            "    Uninstalling typing_extensions-4.5.0:\n",
            "      Successfully uninstalled typing_extensions-4.5.0\n",
            "\u001b[31mERROR: pip's dependency resolver does not currently take into account all the packages that are installed. This behaviour is the source of the following dependency conflicts.\n",
            "tensorflow-probability 0.22.0 requires typing-extensions<4.6.0, but you have typing-extensions 4.9.0 which is incompatible.\u001b[0m\u001b[31m\n",
            "\u001b[0mSuccessfully installed azure-cognitiveservices-vision-computervision-0.9.0 azure-common-1.1.28 azure-core-1.29.7 isodate-0.6.1 msrest-0.7.1 typing-extensions-4.9.0\n"
          ]
        }
      ]
    },
    {
      "cell_type": "code",
      "source": [
        "# Run this once per session\n",
        "\n",
        "# Import the required libraries\n",
        "from azure.cognitiveservices.vision.computervision import ComputerVisionClient\n",
        "from azure.cognitiveservices.vision.computervision.models import OperationStatusCodes\n",
        "from azure.cognitiveservices.vision.computervision.models import VisualFeatureTypes\n",
        "from msrest.authentication import CognitiveServicesCredentials\n",
        "import sys\n",
        "\n",
        "# Get your Computer Vision subscription key from your environment variable.\n",
        "if 'COMPUTER_VISION_SUBSCRIPTION_KEY' in os.environ:\n",
        "    subscription_key = os.environ['COMPUTER_VISION_SUBSCRIPTION_KEY']\n",
        "else:\n",
        "    print(\"\\nSet the COMPUTER_VISION_SUBSCRIPTION_KEY environment variable.\\n**Restart your shell or IDE for changes to take effect.**\")\n",
        "    sys.exit()\n",
        "\n",
        "# Get your Computer Vision endpoint from your environment variable.\n",
        "if 'COMPUTER_VISION_ENDPOINT' in os.environ:\n",
        "    endpoint = os.environ['COMPUTER_VISION_ENDPOINT']\n",
        "else:\n",
        "    print(\"\\nSet the COMPUTER_VISION_ENDPOINT environment variable.\\n**Restart your shell or IDE for changes to take effect.**\")\n",
        "    sys.exit()\n",
        "\n",
        "# Authenticate with Azure Cognitive Services.\n",
        "computervision_client = ComputerVisionClient(endpoint, CognitiveServicesCredentials(subscription_key))"
      ],
      "metadata": {
        "id": "pJSfl9yBzrVJ"
      },
      "execution_count": 8,
      "outputs": []
    },
    {
      "cell_type": "code",
      "source": [
        "images_folder = \"/content/\"\n",
        "\n",
        "print(\"===== Read File - local =====\")\n",
        "# Set the path to the image.\n",
        "read_image_path = os.path.join(images_folder, \"on9.png\")\n",
        "\n",
        "# Open the image.\n",
        "read_image = open(read_image_path, \"rb\")\n",
        "\n",
        "\n",
        "# Call API with image and raw response (allows you to get the operation location). Call Azure using computervision_client with the image.\n",
        "read_response = computervision_client.read_in_stream(read_image, raw=True)\n",
        "\n",
        "# Get the operation location (URL with ID as last appendage)\n",
        "read_operation_location = read_response.headers[\"Operation-Location\"]\n",
        "\n",
        "# Take the ID off and use to get results\n",
        "operation_id = read_operation_location.split(\"/\")[-1]\n",
        "\n",
        "# Call the \"GET\" API and wait for the retrieval of the results.\n",
        "while True:\n",
        "    read_result = computervision_client.get_read_result(operation_id)\n",
        "    if read_result.status.lower() not in ['notstarted', 'running']:\n",
        "        break\n",
        "        print('Waiting for result...')\n",
        "        time.sleep(10)\n",
        "\n",
        "# Print results, line by line\n",
        "if read_result.status == OperationStatusCodes.succeeded:\n",
        "    for text_result in read_result.analyze_result.read_results:\n",
        "        for line in text_result.lines:\n",
        "            print(line.text)\n",
        "            #print(line.bounding_box)\n",
        "print()"
      ],
      "metadata": {
        "colab": {
          "base_uri": "https://localhost:8080/"
        },
        "id": "fb4WuKGb2RZr",
        "outputId": "c6e6731d-8f18-40c8-a22a-55d7c3fee6f6"
      },
      "execution_count": 14,
      "outputs": [
        {
          "output_type": "stream",
          "name": "stdout",
          "text": [
            "===== Read File - local =====\n",
            "\" You never stop taking our money, and\n",
            "\" you so much on that!\"\n",
            "I definitely do not want you to wi\n",
            "\n"
          ]
        }
      ]
    }
  ]
}